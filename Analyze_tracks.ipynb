{
 "cells": [
  {
   "cell_type": "markdown",
   "metadata": {},
   "source": [
    "# Analyzing data run 5\n",
    "\n",
    "* Particle: 100 nm gold 0.5 Hz, 3 V\n",
    "* Recorded Framerate: 54.9661957895894\n",
    "* This means that 1 oscillation happens in approximately **110 frames**"
   ]
  },
  {
   "cell_type": "code",
   "execution_count": 1,
   "metadata": {},
   "outputs": [
    {
     "data": {
      "text/html": [
       "\n",
       "    <div class=\"bk-root\">\n",
       "        <a href=\"https://bokeh.pydata.org\" target=\"_blank\" class=\"bk-logo bk-logo-small bk-logo-notebook\"></a>\n",
       "        <span id=\"598b99e0-4764-4866-85a8-1817c0c19a55\">Loading BokehJS ...</span>\n",
       "    </div>"
      ]
     },
     "metadata": {},
     "output_type": "execute_result"
    },
    {
     "data": {},
     "metadata": {},
     "output_type": "display_data"
    }
   ],
   "source": [
    "import os\n",
    "import h5py\n",
    "import numpy as np\n",
    "import matplotlib.pyplot as plt\n",
    "import matplotlib as mpl\n",
    "from bokeh.plotting import figure, show, output_file\n",
    "from bokeh.io import output_notebook, push_notebook\n",
    "from bokeh.models import HoverTool, CustomJS, Slider, ColumnDataSource\n",
    "from bokeh.layouts import row, column, gridplot\n",
    "import trackpy as tp\n",
    "from scipy.ndimage.filters import gaussian_filter\n",
    "from scipy.ndimage import label\n",
    "\n",
    "output_notebook()\n",
    "%matplotlib inline\n",
    "\n",
    "# Optionally, tweak styles.\n",
    "mpl.rc('figure',  figsize=(30, 15))\n",
    "mpl.rc('image', cmap='gray')\n",
    "mpl.rc('xtick', labelsize=24)\n",
    "mpl.rc('ytick', labelsize=24)"
   ]
  },
  {
   "cell_type": "code",
   "execution_count": 63,
   "metadata": {},
   "outputs": [],
   "source": [
    "file_dir = '/home/aquiles/Documents/Data/Tracking/run100nm'\n",
    "filename = 'data.h5'\n",
    "with h5py.File(os.path.join(file_dir, filename)) as file:\n",
    "    data = file['Basler data'][:,:,:]\n",
    "frames = np.linspace(1, data.shape[0], data.shape[0])"
   ]
  },
  {
   "cell_type": "markdown",
   "metadata": {},
   "source": [
    "## Quick insight into the data\n",
    "\n",
    "First, let's calculate the total intensity, in order to check if something changed during the acquisition."
   ]
  },
  {
   "cell_type": "code",
   "execution_count": 3,
   "metadata": {},
   "outputs": [
    {
     "data": {
      "text/html": [
       "\n",
       "\n",
       "\n",
       "\n",
       "\n",
       "\n",
       "  <div class=\"bk-root\" id=\"298b5e50-c36b-40e2-97b0-c5d04afb6314\"></div>\n"
      ]
     },
     "metadata": {},
     "output_type": "execute_result"
    },
    {
     "data": {},
     "metadata": {
      "application/vnd.bokehjs_exec.v0+json": {
       "id": "6a9be501-e833-420c-ab87-8dde124985bf"
      }
     },
     "output_type": "display_data"
    }
   ],
   "source": [
    "intensities = np.sum(np.sum(data[:,:,:],1),1)\n",
    "hover = HoverTool(tooltips=[(\"Frame\", \"@x\")])\n",
    "p = figure()\n",
    "p.add_tools(hover)\n",
    "p.line(frames, intensities, line_width=1)\n",
    "show(p)"
   ]
  },
  {
   "cell_type": "markdown",
   "metadata": {},
   "source": [
    "There are some sharp steps in the intensity. Frame **717** is one of them"
   ]
  },
  {
   "cell_type": "code",
   "execution_count": null,
   "metadata": {},
   "outputs": [],
   "source": [
    "p = figure(x_range=(1, 300), y_range=(1, 250))\n",
    "hover = HoverTool(tooltips=[(\"x\", \"$x\"), (\"y\", \"$y\"), (\"value\", \"@image\")])\n",
    "p.add_tools(hover)\n",
    "img = np.squeeze(data[717, :, :])\n",
    "source = ColumnDataSource(data=dict(image=[data[0, :, :]]))\n",
    "p.image(image='image', x=1, y=1, dw=300, dh=250, source=source, palette=\"Spectral11\")\n",
    "s2 = figure()\n",
    "s2.add_tools(hover)\n",
    "s2.line(frames, intensities, line_width=2)\n",
    "def update_image(frame):\n",
    "    source.data = dict(image=[data[frame, :, :]])\n",
    "    push_notebook(handle=bokeh_handle)  \n",
    "\n",
    "callback = CustomJS(code=\"\"\"\n",
    "if (IPython.notebook.kernel !== undefined) {\n",
    "    var kernel = IPython.notebook.kernel;\n",
    "    cmd = \"update_image(\" + cb_obj.value + \")\";\n",
    "    kernel.execute(cmd, {}, {});\n",
    "}\n",
    "\"\"\")\n",
    "\n",
    "slider = Slider(start=1, \n",
    "                end=2000,\n",
    "                value=1,\n",
    "                step=1,\n",
    "                title=\"frame\",\n",
    "                callback=callback)\n",
    "bokeh_handle = show(gridplot([p, slider], [s2, None]), notebook_handle=True)\n",
    "output_file('test.html')"
   ]
  },
  {
   "cell_type": "markdown",
   "metadata": {},
   "source": [
    "## Let's make a self-standing document with the data"
   ]
  },
  {
   "cell_type": "code",
   "execution_count": null,
   "metadata": {},
   "outputs": [],
   "source": [
    "from bokeh.io import curdoc\n",
    "from bokeh.layouts import layout\n",
    "\n",
    "p = figure(x_range=(1, 300), y_range=(1, 250))\n",
    "hover = HoverTool(tooltips=[(\"x\", \"$x\"), (\"y\", \"$y\"), (\"value\", \"@image\")])\n",
    "p.add_tools(hover)\n",
    "img = np.squeeze(data[717, :, :])\n",
    "source = ColumnDataSource(data=dict(image=[data[0, :, :]]))\n",
    "p.image(image='image', x=1, y=1, dw=300, dh=250, source=source, palette=\"Spectral11\")\n",
    "s2 = figure()\n",
    "s2.add_tools(hover)\n",
    "s2.line(frames, intensities, line_width=2)\n",
    "   \n",
    "\n",
    "def slider_callback(attr, old, new):\n",
    "    source.data = dict(image=[data[new, :, :]])\n",
    "    \n",
    "slider.on_change('value', slider_callback)\n",
    "\n",
    "slider = Slider(start=1, \n",
    "                end=2000,\n",
    "                value=1,\n",
    "                step=1,\n",
    "                title=\"Frame\")\n",
    "\n",
    "\n",
    "lyt = layout([p, slider], [s2]) \n",
    "curdoc().add_root(lyt)\n",
    "output_file('test.html')"
   ]
  },
  {
   "cell_type": "code",
   "execution_count": null,
   "metadata": {},
   "outputs": [],
   "source": [
    "median_data = np.median(data, 0)\n",
    "data_bkg = data - median_data\n",
    "avg_data = np.sum(data[:100,:,:], 0)"
   ]
  },
  {
   "cell_type": "code",
   "execution_count": null,
   "metadata": {},
   "outputs": [],
   "source": [
    "f = tp.locate(data[10, :,:], 7)\n",
    "len(f)"
   ]
  },
  {
   "cell_type": "code",
   "execution_count": null,
   "metadata": {},
   "outputs": [],
   "source": [
    "plt.figure()  # make a new figure\n",
    "tp.annotate(f, data[10, : ,:]);"
   ]
  },
  {
   "cell_type": "code",
   "execution_count": null,
   "metadata": {},
   "outputs": [],
   "source": [
    "fig, ax = plt.subplots()\n",
    "ax.hist(f['mass'], bins=20)\n",
    "\n",
    "# Optionally, label the axes.\n",
    "ax.set(xlabel='mass', ylabel='count');"
   ]
  },
  {
   "cell_type": "code",
   "execution_count": null,
   "metadata": {},
   "outputs": [],
   "source": [
    "f = tp.locate(data[0, :,:], 9, minmass=250)\n",
    "plt.figure()  # make a new figure\n",
    "tp.annotate(f, data[0, : ,:]);"
   ]
  },
  {
   "cell_type": "code",
   "execution_count": null,
   "metadata": {},
   "outputs": [],
   "source": [
    "plt.figure()\n",
    "tp.subpx_bias(f);"
   ]
  },
  {
   "cell_type": "code",
   "execution_count": null,
   "metadata": {},
   "outputs": [],
   "source": [
    "f = tp.batch(data[:], 9, minmass=250);"
   ]
  },
  {
   "cell_type": "code",
   "execution_count": null,
   "metadata": {},
   "outputs": [],
   "source": [
    "t = tp.link_df(f, 5, memory=3)"
   ]
  },
  {
   "cell_type": "code",
   "execution_count": null,
   "metadata": {},
   "outputs": [],
   "source": [
    "plt.figure()\n",
    "tp.plot_traj(t);"
   ]
  },
  {
   "cell_type": "code",
   "execution_count": null,
   "metadata": {},
   "outputs": [],
   "source": [
    "d = tp.compute_drift(t)\n",
    "plt.figure()\n",
    "d.plot()"
   ]
  },
  {
   "cell_type": "code",
   "execution_count": null,
   "metadata": {},
   "outputs": [],
   "source": [
    "centers = tp.locate(data[0, :, :], 9, minmass=250)"
   ]
  },
  {
   "cell_type": "code",
   "execution_count": null,
   "metadata": {},
   "outputs": [],
   "source": [
    "centers"
   ]
  },
  {
   "cell_type": "code",
   "execution_count": null,
   "metadata": {},
   "outputs": [],
   "source": [
    "plt.imshow(data[1,:,:])"
   ]
  },
  {
   "cell_type": "code",
   "execution_count": null,
   "metadata": {},
   "outputs": [],
   "source": [
    "bkg = np.median(data[1:100,:,:],0)\n",
    "plt.imshow(bkg)"
   ]
  },
  {
   "cell_type": "code",
   "execution_count": null,
   "metadata": {},
   "outputs": [],
   "source": [
    "mask = data[1,:,:]>np.mean(data[1,:,:])+np.std(data[1,:,:])"
   ]
  },
  {
   "cell_type": "code",
   "execution_count": 5,
   "metadata": {},
   "outputs": [
    {
     "data": {
      "text/plain": [
       "<matplotlib.image.AxesImage at 0x7ff7591a26a0>"
      ]
     },
     "execution_count": 5,
     "metadata": {},
     "output_type": "execute_result"
    },
    {
     "data": {
      "image/png": "[encoded data removed]",
      "text/plain": [
       "<Figure size 432x288 with 1 Axes>"
      ]
     },
     "metadata": {},
     "output_type": "display_data"
    }
   ],
   "source": [
    "bkg = gaussian_filter(data[1,:,:], 10)\n",
    "plt.imshow(bkg)"
   ]
  },
  {
   "cell_type": "code",
   "execution_count": 6,
   "metadata": {},
   "outputs": [],
   "source": [
    "d = np.int16(data[0, :, :])\n",
    "clear_data = np.clip(d-bkg,0,None)"
   ]
  },
  {
   "cell_type": "code",
   "execution_count": 7,
   "metadata": {},
   "outputs": [
    {
     "data": {
      "text/plain": [
       "<matplotlib.image.AxesImage at 0x7ff759120e80>"
      ]
     },
     "execution_count": 7,
     "metadata": {},
     "output_type": "execute_result"
    },
    {
     "data": {
      "image/png": "[encoded data removed]",
      "text/plain": [
       "<Figure size 432x288 with 1 Axes>"
      ]
     },
     "metadata": {},
     "output_type": "display_data"
    }
   ],
   "source": [
    "plt.imshow(clear_data)"
   ]
  },
  {
   "cell_type": "code",
   "execution_count": 8,
   "metadata": {},
   "outputs": [
    {
     "data": {
      "text/plain": [
       "<matplotlib.image.AxesImage at 0x7ff7590f1b00>"
      ]
     },
     "execution_count": 8,
     "metadata": {},
     "output_type": "execute_result"
    },
    {
     "data": {
      "image/png": "[encoded data removed]",
      "text/plain": [
       "<Figure size 432x288 with 1 Axes>"
      ]
     },
     "metadata": {},
     "output_type": "display_data"
    }
   ],
   "source": [
    "mask = clear_data>np.mean(clear_data)+np.std(clear_data)*2\n",
    "plt.imshow(mask)"
   ]
  },
  {
   "cell_type": "code",
   "execution_count": 23,
   "metadata": {},
   "outputs": [
    {
     "name": "stdout",
     "output_type": "stream",
     "text": [
      "Found 2131 elements\n"
     ]
    }
   ],
   "source": [
    "structure = \\\n",
    "[[0,0,0],\n",
    " [0,1,0],\n",
    " [0,0,0]]\n",
    "result = label(mask, structure=structure)\n",
    "print('Found {} elements'.format(result[1]))"
   ]
  },
  {
   "cell_type": "code",
   "execution_count": 24,
   "metadata": {},
   "outputs": [
    {
     "data": {
      "text/html": [
       "\n",
       "\n",
       "\n",
       "\n",
       "\n",
       "\n",
       "  <div class=\"bk-root\" id=\"7bba05ff-feeb-49a3-aeac-c0977c3429f9\"></div>\n"
      ]
     },
     "metadata": {},
     "output_type": "execute_result"
    },
    {
     "data": {},
     "metadata": {
      "application/vnd.bokehjs_exec.v0+json": {
       "id": "64a5ec14-9718-40e2-9085-0cc35a395a40"
      }
     },
     "output_type": "display_data"
    }
   ],
   "source": [
    "p = figure(x_range=(1, 300), y_range=(1, 250))\n",
    "hover = HoverTool(tooltips=[(\"x\", \"$x\"), (\"y\", \"$y\"), (\"value\", \"@image\")])\n",
    "p.add_tools(hover)\n",
    "img = result[0]\n",
    "source = ColumnDataSource(data=dict(image=[img]))\n",
    "p.image(image='image', x=1, y=1, dw=300, dh=250, source=source, palette=\"Spectral11\")\n",
    "show(p)"
   ]
  },
  {
   "cell_type": "code",
   "execution_count": 25,
   "metadata": {},
   "outputs": [],
   "source": [
    "from scipy.ndimage import find_objects\n",
    "objects = find_objects(result[0])"
   ]
  },
  {
   "cell_type": "code",
   "execution_count": 42,
   "metadata": {},
   "outputs": [],
   "source": [
    "for i in range(result[1]):\n",
    "    number = np.count_nonzero(result[0]==i)\n",
    "    if number<=4:\n",
    "        "
   ]
  },
  {
   "cell_type": "code",
   "execution_count": 47,
   "metadata": {},
   "outputs": [
    {
     "data": {
      "text/html": [
       "\n",
       "\n",
       "\n",
       "\n",
       "\n",
       "\n",
       "  <div class=\"bk-root\" id=\"99a31fa5-5d2e-4a2d-8585-d4ac42de16a7\"></div>\n"
      ]
     },
     "metadata": {},
     "output_type": "execute_result"
    },
    {
     "data": {},
     "metadata": {
      "application/vnd.bokehjs_exec.v0+json": {
       "id": "4cbc5502-e4a7-4e04-8511-e84a1493b7b0"
      }
     },
     "output_type": "display_data"
    }
   ],
   "source": []
  },
  {
   "cell_type": "code",
   "execution_count": 57,
   "metadata": {},
   "outputs": [],
   "source": [
    "from scipy.ndimage import center_of_mass"
   ]
  },
  {
   "cell_type": "code",
   "execution_count": 58,
   "metadata": {},
   "outputs": [],
   "source": [
    "com = center_of_mass(clear_data, result[0])"
   ]
  },
  {
   "cell_type": "code",
   "execution_count": 59,
   "metadata": {},
   "outputs": [
    {
     "data": {
      "text/plain": [
       "(123.15288919102652, 150.72595018849267)"
      ]
     },
     "execution_count": 59,
     "metadata": {},
     "output_type": "execute_result"
    }
   ],
   "source": [
    "com"
   ]
  },
  {
   "cell_type": "code",
   "execution_count": 62,
   "metadata": {},
   "outputs": [
    {
     "data": {
      "text/plain": [
       "(250, 300)"
      ]
     },
     "execution_count": 62,
     "metadata": {},
     "output_type": "execute_result"
    }
   ],
   "source": [
    "clear_data.shape"
   ]
  },
  {
   "cell_type": "code",
   "execution_count": null,
   "metadata": {},
   "outputs": [],
   "source": []
  }
 ],
 "metadata": {
  "kernelspec": {
   "display_name": "Python 3",
   "language": "python",
   "name": "python3"
  },
  "language_info": {
   "codemirror_mode": {
    "name": "ipython",
    "version": 3
   },
   "file_extension": ".py",
   "mimetype": "text/x-python",
   "name": "python",
   "nbconvert_exporter": "python",
   "pygments_lexer": "ipython3",
   "version": "3.6.5"
  }
 },
 "nbformat": 4,
 "nbformat_minor": 2
}
