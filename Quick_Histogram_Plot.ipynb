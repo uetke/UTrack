{
 "cells": [
  {
   "cell_type": "code",
   "execution_count": 16,
   "metadata": {},
   "outputs": [
    {
     "data": {
      "text/html": [
       "\n",
       "    <div class=\"bk-root\">\n",
       "        <a href=\"https://bokeh.pydata.org\" target=\"_blank\" class=\"bk-logo bk-logo-small bk-logo-notebook\"></a>\n",
       "        <span id=\"133cda74-0279-4bfe-9de8-dda4783b40a8\">Loading BokehJS ...</span>\n",
       "    </div>"
      ]
     },
     "metadata": {},
     "output_type": "execute_result"
    },
    {
     "data": {},
     "metadata": {},
     "output_type": "display_data"
    }
   ],
   "source": [
    "import os\n",
    "import h5py\n",
    "import numpy as np\n",
    "import matplotlib.pyplot as plt\n",
    "import matplotlib as mpl\n",
    "import pandas as pd\n",
    "from bokeh.plotting import figure, show, output_file\n",
    "from bokeh.io import output_notebook, push_notebook\n",
    "from bokeh.models import HoverTool, CustomJS, Slider, ColumnDataSource\n",
    "from bokeh.layouts import row, column, gridplot\n",
    "import trackpy as tp\n",
    "from scipy.ndimage.filters import gaussian_filter\n",
    "from scipy.ndimage import label\n",
    "from scipy.optimize import curve_fit\n",
    "output_notebook()"
   ]
  },
  {
   "cell_type": "code",
   "execution_count": 5,
   "metadata": {},
   "outputs": [],
   "source": [
    "file_dir = 'C:\\\\Users\\\\aquiles\\\\Data\\\\run10\\\\tracking\\\\20-06-18\\\\run4'\n",
    "filename = 'particleDiameters4.csv'\n",
    "data = pd.read_csv(os.path.join(file_dir, filename), header=None)"
   ]
  },
  {
   "cell_type": "code",
   "execution_count": 25,
   "metadata": {},
   "outputs": [
    {
     "data": {
      "text/html": [
       "\n",
       "<div class=\"bk-root\">\n",
       "    <div class=\"bk-plotdiv\" id=\"d2d4c21d-cc71-4616-a7be-b7a64018708a\"></div>\n",
       "</div>"
      ]
     },
     "metadata": {},
     "output_type": "execute_result"
    },
    {
     "data": {},
     "metadata": {
      "application/vnd.bokehjs_exec.v0+json": {
       "id": "1e906a26-76d1-4d43-a7f0-fe169c818b38"
      }
     },
     "output_type": "display_data"
    }
   ],
   "source": [
    "p1 = figure(title=\"Histogram particle diameter\", background_fill_color=\"#E8DDCB\")\n",
    "hist, edges = np.histogram(data[1], density=True, bins=50)\n",
    "bin_centres = (edges[:-1] + edges[1:])/2\n",
    "def gauss(x, *p):\n",
    "    A, mu, sigma = p\n",
    "    return A*np.exp(-(x-mu)**2/(2.*sigma**2))\n",
    "p0 = [0.035, 20., 10.]\n",
    "coeff, var_matrix = curve_fit(gauss, bin_centres, hist, p0=p0)\n",
    "x_hist = np.linspace(0, 160, 500)\n",
    "hist_fit = gauss(x_hist, *coeff)\n",
    "\n",
    "p1.quad(top=hist, bottom=0, left=edges[:-1], right=edges[1:],\n",
    "        fill_color=\"#036564\", line_color=\"#033649\")\n",
    "p1.line(x_hist, hist_fit, line_color='#ff8821', line_width=5)\n",
    "p1.xaxis.axis_label = 'Particle diameter (nm)'\n",
    "p1.yaxis.axis_label = 'Frequency'\n",
    "p1.xaxis.axis_label_text_font_size = '14pt'\n",
    "p1.yaxis.axis_label_text_font_size = '14pt'\n",
    "p1.xaxis.major_label_text_font_size = '12pt'\n",
    "p1.yaxis.major_label_text_font_size = '12pt'\n",
    "show(p1)"
   ]
  },
  {
   "cell_type": "code",
   "execution_count": null,
   "metadata": {},
   "outputs": [],
   "source": []
  }
 ],
 "metadata": {
  "kernelspec": {
   "display_name": "Python 3",
   "language": "python",
   "name": "python3"
  },
  "language_info": {
   "codemirror_mode": {
    "name": "ipython",
    "version": 3
   },
   "file_extension": ".py",
   "mimetype": "text/x-python",
   "name": "python",
   "nbconvert_exporter": "python",
   "pygments_lexer": "ipython3",
   "version": "3.6.5"
  }
 },
 "nbformat": 4,
 "nbformat_minor": 2
}
